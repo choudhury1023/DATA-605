{
 "cells": [
  {
   "cell_type": "markdown",
   "metadata": {},
   "source": [
    "# Ahsanul Choudhury"
   ]
  },
  {
   "cell_type": "markdown",
   "metadata": {},
   "source": [
    "## DATA 602 HW 12"
   ]
  },
  {
   "cell_type": "markdown",
   "metadata": {},
   "source": [
    "This homework will get your feet wet with some basic parallel computing approaches.  \n",
    "\n",
    "**Do both of the following:***\n",
    "\n",
    "1.   Take your solution from Homework 11 and complete the Monte Carlo step (step 6) in parallel.  There are many ways you can go about doing this, and I'm not looking for anything too complicated.  If you can get multiple processes crunching the data together, that is great.  Using IPython’s built-in tools would be a great method\n",
    "\n",
    "2.   Compare the timing for your solution in homework 11 and this parallel solution.  This is similar to what you did in homeworks 6 and 7.  Ideally, you'll see some speed improvement.  The amount you see will largely be based the capabilities of your hardware, and less on the software implementation.  There is additional overhead for running an operation in parallel, so speed gains will be more obvious with a larger number of calculations.\n",
    "\n",
    "As with the last homework, you will submit this to me as an IPython notebook.  Include the results of your comparison there, along with everything else (code, charts, graphs, etc.)"
   ]
  },
  {
   "cell_type": "markdown",
   "metadata": {},
   "source": [
    "**HW 11 Approach**"
   ]
  },
  {
   "cell_type": "code",
   "execution_count": 1,
   "metadata": {
    "collapsed": true
   },
   "outputs": [],
   "source": [
    "import timeit"
   ]
  },
  {
   "cell_type": "code",
   "execution_count": 2,
   "metadata": {},
   "outputs": [
    {
     "name": "stdout",
     "output_type": "stream",
     "text": [
      "1.42377347633 seconds\n"
     ]
    }
   ],
   "source": [
    "s = \"\"\"\\\n",
    "import pandas as pd\n",
    "import numpy as np\n",
    "\n",
    "apple = pd.read_csv('https://raw.githubusercontent.com/choudhury1023/DATA-602/master/apple.2011.csv', skiprows = 1,\n",
    "                    names = ['date', 'price', 'pct_change'])\n",
    "\n",
    "\n",
    "## Calculate the mean and standard deviation.\n",
    "\n",
    "apple['pct_change'] = pd.to_numeric(apple['pct_change'], errors='coerce')\n",
    "mu = np.mean(apple['pct_change'])\n",
    "sigma = np.std(apple['pct_change'])\n",
    "\n",
    "\n",
    "##Starting price:\n",
    "\n",
    "last_price = apple['price'].iloc[-1]\n",
    "\n",
    "\n",
    "##Random number generator and 20 random numbers:\n",
    "\n",
    "np.random.seed(7)\n",
    "rand_gen = np.random.normal(loc= mu, scale= sigma, size=20)\n",
    "\n",
    "\n",
    "##Hypothetical price after 20 days:\n",
    "\n",
    "def get_price(sim_price, days, mu, sigma):\n",
    "    return sim_price * np.prod(np.random.normal(loc = mu, scale = sigma, size = days) + 1)\n",
    "\n",
    "np.random.seed(7)\n",
    "get_price(last_price, 20, mu ,sigma)\n",
    "\n",
    "\n",
    "##Simulate 10,000 times\n",
    "\n",
    "results = []\n",
    "for i in range(10000):\n",
    "    results.append(get_price(last_price, 20, mu ,sigma))\n",
    "        \n",
    "\"\"\"\n",
    "\n",
    "t = timeit.Timer(stmt=s)\n",
    "t = t.timeit(1)\n",
    "print t, 'seconds'\n"
   ]
  },
  {
   "cell_type": "markdown",
   "metadata": {},
   "source": [
    "**Parallel Computing Approach**"
   ]
  },
  {
   "cell_type": "code",
   "execution_count": 3,
   "metadata": {},
   "outputs": [
    {
     "name": "stdout",
     "output_type": "stream",
     "text": [
      "[0, 1, 2, 3]\n"
     ]
    }
   ],
   "source": [
    "import ipyparallel\n",
    "clients = ipyparallel.Client()\n",
    "clients.block = True\n",
    "print clients.ids\n",
    "dview = clients.direct_view()"
   ]
  },
  {
   "cell_type": "code",
   "execution_count": 4,
   "metadata": {},
   "outputs": [
    {
     "name": "stdout",
     "output_type": "stream",
     "text": [
      "[stdout:0] 0.131585906905 seconds\n",
      "[stdout:1] 0.114187102557 seconds\n",
      "[stdout:2] 0.105262378427 seconds\n",
      "[stdout:3] 0.104261300125 seconds\n"
     ]
    }
   ],
   "source": [
    "%%px\n",
    "\n",
    "import timeit\n",
    "\n",
    "st = \"\"\"\\\n",
    "\n",
    "import pandas as pd\n",
    "import numpy as np\n",
    "\n",
    "apple = pd.read_csv('https://raw.githubusercontent.com/choudhury1023/DATA-602/master/apple.2011.csv', skiprows = 1,\n",
    "                    names = ['date', 'price', 'pct_change'])\n",
    "\n",
    "\n",
    "## Calculate the mean and standard deviation.\n",
    "\n",
    "apple['pct_change'] = pd.to_numeric(apple['pct_change'], errors='coerce')\n",
    "mu = np.mean(apple['pct_change'])\n",
    "sigma = np.std(apple['pct_change'])\n",
    "\n",
    "\n",
    "\n",
    "##Starting price:\n",
    "\n",
    "last_price = apple['price'].iloc[-1]\n",
    "\n",
    "\n",
    "##Random number generator and 20 random numbers:\n",
    "\n",
    "np.random.seed(7)\n",
    "rand_gen = np.random.normal(loc= mu, scale= sigma, size=20)\n",
    "\n",
    "\n",
    "##Hypothetical price after 20 days:\n",
    "\n",
    "def get_price(sim_price, days, mu, sigma):\n",
    "    return sim_price * np.prod(np.random.normal(loc = mu, scale = sigma, size = days) + 1)\n",
    "\n",
    "np.random.seed(7)\n",
    "get_price(last_price, 20, mu ,sigma)\n",
    "\n",
    "\n",
    "##Simulate 10,000 times\n",
    "\n",
    "results = []\n",
    "for i in range(2500):\n",
    "    results.append(get_price(last_price, 20, mu ,sigma))\n",
    "        \n",
    "\"\"\"\n",
    "t1 = timeit.Timer(stmt=st)\n",
    "t1 = t1.timeit(1)\n",
    "print t1, 'seconds'"
   ]
  },
  {
   "cell_type": "code",
   "execution_count": 5,
   "metadata": {},
   "outputs": [
    {
     "name": "stdout",
     "output_type": "stream",
     "text": [
      "HW11 time 1.42377347633 seconds, parallel computing time 0.455296688015 seconds\n"
     ]
    }
   ],
   "source": [
    "t1 = dview.gather('t1')\n",
    "print 'HW11 time', t, 'seconds,', 'parallel computing time', sum (t1), 'seconds'"
   ]
  }
 ],
 "metadata": {
  "kernelspec": {
   "display_name": "Python 2",
   "language": "python",
   "name": "python2"
  },
  "language_info": {
   "codemirror_mode": {
    "name": "ipython",
    "version": 2
   },
   "file_extension": ".py",
   "mimetype": "text/x-python",
   "name": "python",
   "nbconvert_exporter": "python",
   "pygments_lexer": "ipython2",
   "version": "2.7.13"
  }
 },
 "nbformat": 4,
 "nbformat_minor": 1
}
